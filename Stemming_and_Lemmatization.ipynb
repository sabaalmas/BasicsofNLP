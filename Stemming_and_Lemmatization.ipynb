{
  "nbformat": 4,
  "nbformat_minor": 0,
  "metadata": {
    "colab": {
      "provenance": [],
      "include_colab_link": true
    },
    "kernelspec": {
      "name": "python3",
      "display_name": "Python 3"
    }
  },
  "cells": [
    {
      "cell_type": "markdown",
      "metadata": {
        "id": "view-in-github",
        "colab_type": "text"
      },
      "source": [
        "<a href=\"https://colab.research.google.com/github/sabaalmas/BasicsofNLP/blob/master/Stemming_and_Lemmatization.ipynb\" target=\"_parent\"><img src=\"https://colab.research.google.com/assets/colab-badge.svg\" alt=\"Open In Colab\"/></a>"
      ]
    },
    {
      "cell_type": "markdown",
      "metadata": {
        "id": "TNcphyUxXvow"
      },
      "source": [
        "## Stemming and Lemmatization"
      ]
    },
    {
      "cell_type": "code",
      "metadata": {
        "id": "JC6TSV87hS8Y"
      },
      "source": [],
      "execution_count": null,
      "outputs": []
    },
    {
      "cell_type": "markdown",
      "source": [
        "Difference between lemmatiation and Stemming?\n",
        "in stemming,\n",
        "All these words can be converted to a root word- that may not be a valid word..\n",
        "EG: Easiy turns to Easili...\n",
        "not the case for lemmatization tho\n",
        "\n",
        "There is no algorithm of Stemming in Spacy . \n",
        "although NLTK has two- Potterr Stemmer and Snowball Stemmer. \n",
        "Difference between these two libaraies?\n",
        "\n",
        "\n",
        "\n"
      ],
      "metadata": {
        "id": "PiOgR2doN-jt"
      }
    },
    {
      "cell_type": "markdown",
      "metadata": {
        "id": "f3IuWkK0hTYv"
      },
      "source": [
        "Playing \n",
        "Play   \n",
        "Played\n",
        "\n",
        "=> Play"
      ]
    },
    {
      "cell_type": "code",
      "metadata": {
        "id": "HTx_Asm6XwsV"
      },
      "source": [
        "words = ['run','runner','running','ran','runs','easily','fairly']\n"
      ],
      "execution_count": 9,
      "outputs": []
    },
    {
      "cell_type": "code",
      "metadata": {
        "id": "3uQQZyfRh5cG"
      },
      "source": [
        "import nltk"
      ],
      "execution_count": 2,
      "outputs": []
    },
    {
      "cell_type": "code",
      "metadata": {
        "id": "8wpXkqgFh9le"
      },
      "source": [
        "from nltk.stem.porter import PorterStemmer\n",
        "from nltk.stem.snowball import  SnowballStemmer"
      ],
      "execution_count": 10,
      "outputs": []
    },
    {
      "cell_type": "code",
      "metadata": {
        "id": "WaiuXm4NiOw1"
      },
      "source": [
        "p_stemmer = PorterStemmer()\n",
        "s_stemmer = SnowballStemmer(language='english')"
      ],
      "execution_count": 13,
      "outputs": []
    },
    {
      "cell_type": "code",
      "metadata": {
        "id": "mjAS8rxtieiW",
        "colab": {
          "base_uri": "https://localhost:8080/"
        },
        "outputId": "a51a86ed-7203-4825-cd0b-27d88560e42c"
      },
      "source": [
        "#Here PotterStemmer has been used\n",
        "for word in words:\n",
        "  print(word + ' ------  ' +p_stemmer.stem(word))"
      ],
      "execution_count": 14,
      "outputs": [
        {
          "output_type": "stream",
          "name": "stdout",
          "text": [
            "run ------  run\n",
            "runner ------  runner\n",
            "running ------  run\n",
            "ran ------  ran\n",
            "runs ------  run\n",
            "easily ------  easili\n",
            "fairly ------  fairli\n"
          ]
        }
      ]
    },
    {
      "cell_type": "code",
      "metadata": {
        "id": "t7nMUaiSi2AO",
        "colab": {
          "base_uri": "https://localhost:8080/"
        },
        "outputId": "0ec9a6c9-cff1-4fe8-d91d-8c3c34b409af"
      },
      "source": [
        "#Here SnowballStemmer has been used\n",
        "for word in words:\n",
        "  print(word + ' ------  ' +s_stemmer.stem(word))\n",
        "#Note how there is a difference in the root words assigned by both these algortims to the word - Fairly..."
      ],
      "execution_count": 15,
      "outputs": [
        {
          "output_type": "stream",
          "name": "stdout",
          "text": [
            "run ------  run\n",
            "runner ------  runner\n",
            "running ------  run\n",
            "ran ------  ran\n",
            "runs ------  run\n",
            "easily ------  easili\n",
            "fairly ------  fair\n"
          ]
        }
      ]
    },
    {
      "cell_type": "markdown",
      "source": [
        "Which one is a better algorithm?? Def Snowball"
      ],
      "metadata": {
        "id": "ctIJlwavQY7K"
      }
    },
    {
      "cell_type": "markdown",
      "source": [
        "EXTRA DETAILS:\n",
        "Words like 'fairly' and 'sportingly' were stemmed to 'fair' and 'sport' in the snowball stemmer but when you use the porter stemmer they are stemmed to 'fairli' and 'sportingli'.\n",
        "\n",
        "Can there be disadvantages to stemming?\n",
        "\n"
      ],
      "metadata": {
        "id": "pnSlt1KiQ3_h"
      }
    },
    {
      "cell_type": "markdown",
      "metadata": {
        "id": "qGBsewbcjKF3"
      },
      "source": [
        "### Lemmatization"
      ]
    },
    {
      "cell_type": "code",
      "metadata": {
        "id": "uHIVmMBSjNCo"
      },
      "source": [
        "import spacy\n",
        "nlp = spacy.load('en_core_web_sm')\n",
        "#small size model"
      ],
      "execution_count": 16,
      "outputs": []
    },
    {
      "cell_type": "code",
      "metadata": {
        "id": "rVdCgJRtjQoW"
      },
      "source": [
        "doc1 = nlp(\"The striped bats are hanging on their feet for best\")"
      ],
      "execution_count": 17,
      "outputs": []
    },
    {
      "cell_type": "code",
      "metadata": {
        "id": "6h7EcdHSjkMX",
        "colab": {
          "base_uri": "https://localhost:8080/"
        },
        "outputId": "c2c203f5-9e43-4dc4-fef4-551e7d2c443b"
      },
      "source": [
        "for token in doc1:\n",
        "  print(token, token.lemma_)\n",
        "# Note how we can seperate using tab\n",
        "#problem here-- i want to print token------it' lemma\n",
        "for token in doc1:\n",
        "  print(token)\n",
        "  print('-------'+token.lemma_)"
      ],
      "execution_count": 53,
      "outputs": [
        {
          "output_type": "stream",
          "name": "stdout",
          "text": [
            "The the\n",
            "striped stripe\n",
            "bats bat\n",
            "are be\n",
            "hanging hang\n",
            "on on\n",
            "their their\n",
            "feet foot\n",
            "for for\n",
            "best good\n",
            "The\n",
            "-------the\n",
            "striped\n",
            "-------stripe\n",
            "bats\n",
            "-------bat\n",
            "are\n",
            "-------be\n",
            "hanging\n",
            "-------hang\n",
            "on\n",
            "-------on\n",
            "their\n",
            "-------their\n",
            "feet\n",
            "-------foot\n",
            "for\n",
            "-------for\n",
            "best\n",
            "-------good\n"
          ]
        }
      ]
    },
    {
      "cell_type": "markdown",
      "source": [
        "Please note how we got:\n",
        "are - be\n",
        "the word has been entirely changed. This doesnot happen in stemming :)\n",
        "hanging - hang\n",
        "can be possible in both stemming and lemmatization but, stemming willnever change the word an entirely new word...like in case of 'be'....\n",
        "you can check how be changes when we stem it:\n",
        "trying to call temmer on the same sentence..."
      ],
      "metadata": {
        "id": "qZt7hzoOMYcp"
      }
    },
    {
      "cell_type": "code",
      "metadata": {
        "id": "1j5yTHz0kDIz",
        "colab": {
          "base_uri": "https://localhost:8080/"
        },
        "outputId": "4050f19a-5e9f-426d-c6db-ed949928ddd8"
      },
      "source": [
        "#this sentence here s1....has not been tokenized before passing it to the for loop...\n",
        "# what do you think will happen?\n",
        "s1 = \"The striped bats are hanging on their feet for best\"\n",
        "for word in s1:\n",
        "  print(word + ' ------  ' +p_stemmer.stem(word))"
      ],
      "execution_count": 20,
      "outputs": [
        {
          "output_type": "stream",
          "name": "stdout",
          "text": [
            "T ------  t\n",
            "h ------  h\n",
            "e ------  e\n",
            "  ------   \n",
            "s ------  s\n",
            "t ------  t\n",
            "r ------  r\n",
            "i ------  i\n",
            "p ------  p\n",
            "e ------  e\n",
            "d ------  d\n",
            "  ------   \n",
            "b ------  b\n",
            "a ------  a\n",
            "t ------  t\n",
            "s ------  s\n",
            "  ------   \n",
            "a ------  a\n",
            "r ------  r\n",
            "e ------  e\n",
            "  ------   \n",
            "h ------  h\n",
            "a ------  a\n",
            "n ------  n\n",
            "g ------  g\n",
            "i ------  i\n",
            "n ------  n\n",
            "g ------  g\n",
            "  ------   \n",
            "o ------  o\n",
            "n ------  n\n",
            "  ------   \n",
            "t ------  t\n",
            "h ------  h\n",
            "e ------  e\n",
            "i ------  i\n",
            "r ------  r\n",
            "  ------   \n",
            "f ------  f\n",
            "e ------  e\n",
            "e ------  e\n",
            "t ------  t\n",
            "  ------   \n",
            "f ------  f\n",
            "o ------  o\n",
            "r ------  r\n",
            "  ------   \n",
            "b ------  b\n",
            "e ------  e\n",
            "s ------  s\n",
            "t ------  t\n"
          ]
        }
      ]
    },
    {
      "cell_type": "code",
      "source": [
        "s1 = \"The striped bats are hanging on their feet for best\"\n",
        "for word in s1.split():\n",
        "  print(word + ' ------  ' +p_stemmer.stem(word))"
      ],
      "metadata": {
        "id": "we0njdasRE8r",
        "outputId": "75d845bb-b50d-4523-c7b9-309e0e9f38a7",
        "colab": {
          "base_uri": "https://localhost:8080/"
        }
      },
      "execution_count": 32,
      "outputs": [
        {
          "output_type": "stream",
          "name": "stdout",
          "text": [
            "The ------  the\n",
            "striped ------  stripe\n",
            "bats ------  bat\n",
            "are ------  are\n",
            "hanging ------  hang\n",
            "on ------  on\n",
            "their ------  their\n",
            "feet ------  feet\n",
            "for ------  for\n",
            "best ------  best\n"
          ]
        }
      ]
    },
    {
      "cell_type": "markdown",
      "source": [
        "Everything gets treated as a word- every letter, space etc..."
      ],
      "metadata": {
        "id": "7l4iJpjcOtYl"
      }
    },
    {
      "cell_type": "markdown",
      "source": [
        "We can try to tokenize it."
      ],
      "metadata": {
        "id": "_6k5JwceO6FJ"
      }
    },
    {
      "cell_type": "code",
      "source": [
        "doc1 = nlp(s1)"
      ],
      "metadata": {
        "id": "3Z_ARS_xPCSw"
      },
      "execution_count": 35,
      "outputs": []
    },
    {
      "cell_type": "code",
      "source": [
        "doc1"
      ],
      "metadata": {
        "id": "6TPHdICKRowB",
        "outputId": "38e24ebc-9b0a-4679-8f06-0e7d776e345e",
        "colab": {
          "base_uri": "https://localhost:8080/"
        }
      },
      "execution_count": 37,
      "outputs": [
        {
          "output_type": "execute_result",
          "data": {
            "text/plain": [
              "The striped bats are hanging on their feet for best"
            ]
          },
          "metadata": {},
          "execution_count": 37
        }
      ]
    },
    {
      "cell_type": "code",
      "source": [],
      "metadata": {
        "id": "TSC1LZ9_R8D1"
      },
      "execution_count": null,
      "outputs": []
    }
  ]
}